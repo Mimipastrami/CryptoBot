{
  "nbformat": 4,
  "nbformat_minor": 0,
  "metadata": {
    "colab": {
      "name": "CryptoBot.ipynb",
      "provenance": [],
      "collapsed_sections": [],
      "authorship_tag": "ABX9TyP5Tn1+ItjfiAC8fzujHGUv",
      "include_colab_link": true
    },
    "kernelspec": {
      "name": "python3",
      "display_name": "Python 3"
    },
    "language_info": {
      "name": "python"
    }
  },
  "cells": [
    {
      "cell_type": "markdown",
      "metadata": {
        "id": "view-in-github",
        "colab_type": "text"
      },
      "source": [
        "<a href=\"https://colab.research.google.com/github/Mimipastrami/CryptoBot/blob/main/CryptoBot.ipynb\" target=\"_parent\"><img src=\"https://colab.research.google.com/assets/colab-badge.svg\" alt=\"Open In Colab\"/></a>"
      ]
    },
    {
      "cell_type": "markdown",
      "source": [
        "**Package Installation **\n"
      ],
      "metadata": {
        "id": "i51RTeDV4UF2"
      }
    },
    {
      "cell_type": "code",
      "execution_count": null,
      "metadata": {
        "id": "Oqm_cypH3QQg"
      },
      "outputs": [],
      "source": [
        "pip install python-binance"
      ]
    },
    {
      "cell_type": "code",
      "source": [
        "pip install ta"
      ],
      "metadata": {
        "id": "j-93Nzzv4BDO"
      },
      "execution_count": null,
      "outputs": []
    },
    {
      "cell_type": "markdown",
      "source": [
        "Import, Define Client and Download data"
      ],
      "metadata": {
        "id": "GVQHeGod4nge"
      }
    },
    {
      "cell_type": "code",
      "source": [
        "import pandas as pd\n",
        "from binance.client import Client\n",
        "import ta\n",
        "\n",
        "klinesT = Client().get_historical_klines(\"BTCUSDT\", Client.KLINE_INTERVAL_1HOUR, \"01 January 2017\")\n",
        "df = pd.DataFrame(klinesT, columns = ['timestamp', 'open', 'high', 'low', 'close', 'volume', 'close_time', 'quote_av', 'trades', 'tb_base_av', 'tb_quote_av', 'ignore' ])\n"
      ],
      "metadata": {
        "id": "KmNGEZGW4va2"
      },
      "execution_count": null,
      "outputs": []
    }
  ]
}